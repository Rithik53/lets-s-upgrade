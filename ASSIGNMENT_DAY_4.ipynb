{
  "nbformat": 4,
  "nbformat_minor": 0,
  "metadata": {
    "colab": {
      "name": "ASSIGNMENT_DAY-4.ipynb",
      "provenance": [],
      "collapsed_sections": [],
      "include_colab_link": true
    },
    "kernelspec": {
      "name": "python3",
      "display_name": "Python 3"
    }
  },
  "cells": [
    {
      "cell_type": "markdown",
      "metadata": {
        "id": "view-in-github",
        "colab_type": "text"
      },
      "source": [
        "<a href=\"https://colab.research.google.com/github/Rithik53/lets-s-upgrade/blob/master/ASSIGNMENT_DAY_4.ipynb\" target=\"_parent\"><img src=\"https://colab.research.google.com/assets/colab-badge.svg\" alt=\"Open In Colab\"/></a>"
      ]
    },
    {
      "cell_type": "markdown",
      "metadata": {
        "id": "N-CNtoygJCPs",
        "colab_type": "text"
      },
      "source": [
        "1.Research on whether addition, subtraction, multiplication, division, floor division, and modulo operations\n",
        "be performed on complex numbers. Based on your study, implement a Python program to demonstrate\n",
        "these operations."
      ]
    },
    {
      "cell_type": "code",
      "metadata": {
        "id": "ftR2N4IaI8Uy",
        "colab_type": "code",
        "colab": {
          "base_uri": "https://localhost:8080/",
          "height": 84
        },
        "outputId": "3c6e2eef-08e8-4fc2-e3c0-f5cb18de9044"
      },
      "source": [
        "x = complex(input(\"Enter the complex number:- \"))\n",
        "y = complex(input(\"Enter the complex number:- \"))\n",
        "op = input(\"Enter the operation you want to perform:- \")\n",
        "if op=='+':\n",
        "  print(\"Addition=\",(x)+(y))\n",
        "elif op=='-':\n",
        "  print(\"Subtraction=\",(x)+(y))\n",
        "elif op=='/':\n",
        "  print(\"Division=\",(x)/(y))\n",
        "elif op=='*':\n",
        "  print(\"Multiplication=\",(x)*(y))\n",
        "elif op=='//':\n",
        "  print(\"Floor Division cant be done on complex numbers\")\n",
        "elif op=='%':\n",
        "  print(\"Modulus=\",mod(x))\n"
      ],
      "execution_count": null,
      "outputs": [
        {
          "output_type": "stream",
          "text": [
            "Enter the complex number:- 6+4j\n",
            "Enter the complex number:- 3+2j\n",
            "Enter the operation you want to perform:- *\n",
            "Multiplication= (10+24j)\n"
          ],
          "name": "stdout"
        }
      ]
    },
    {
      "cell_type": "markdown",
      "metadata": {
        "id": "5REwRmVxMDSH",
        "colab_type": "text"
      },
      "source": [
        "2.Research on range() functions and its parameters. Create a markdown cell and write in your own words\n",
        "(no copy-paste from google please) what you understand about it. Implement a small program of your\n",
        "choice on the same."
      ]
    },
    {
      "cell_type": "markdown",
      "metadata": {
        "id": "SaoJesgkMSXH",
        "colab_type": "text"
      },
      "source": [
        "***range()*** is a function in python used to create a loop basically which starts from 0 by default and increments 1 for every step.\n",
        "\n",
        "**syntax-** range(*start*,*stop*,*step*)\n",
        "\n",
        "This range function works with minimum of 1 predefined parameter.\n",
        "we can also write *range(10)* which executes the loop for 10 times i.e from 0 to 9.(*To be noted it wont execute for 11th time*) If we give 10 as the parameter inside the range it starts from 0 and goes till 10-1 i.e till 9.\n",
        "\n",
        "for i in range(5):\n",
        "\n",
        "    print(i,end=\",\")\n",
        "\n",
        "O/P:-\n",
        "0,1,2,3,4\n",
        "\n",
        "\n",
        "for i in range(1,5):  ###we can specify that we want to start from 1 by saying like this\n",
        "\n",
        "    print(i,end=\",\")\n",
        "\n",
        "O/P:-\n",
        "1,2,3,4\n",
        "\n",
        "\n",
        "for i in range(1,10,2):  ### Here we are specifying one more parameter which is step=2 which increments i 2 times after every loop execution \n",
        "\n",
        "    print(i,end=\",\")\n",
        "\n",
        "O/P:\n",
        "1,3,5,7,9,\n",
        "\n"
      ]
    },
    {
      "cell_type": "markdown",
      "metadata": {
        "id": "MSVC1-qZO7mw",
        "colab_type": "text"
      },
      "source": [
        "3.Consider two numbers. Perform their subtraction and if the result of subtraction is greater than 25, print\n",
        "their multiplication result else print their division result."
      ]
    },
    {
      "cell_type": "code",
      "metadata": {
        "id": "7WEYjx5UPGz8",
        "colab_type": "code",
        "colab": {
          "base_uri": "https://localhost:8080/",
          "height": 67
        },
        "outputId": "e9dbd5d5-68d6-4f36-9f33-ad0d7b4c2680"
      },
      "source": [
        "a = int(input(\"Enter a number:-\"))\n",
        "b = int(input(\"Enter a number:-\"))\n",
        "sub = a-b\n",
        "if sub>25:\n",
        "  print(\"Multiplication=\",a*b)\n",
        "else:\n",
        "  print(\"Division=\",a/b)"
      ],
      "execution_count": null,
      "outputs": [
        {
          "output_type": "stream",
          "text": [
            "Enter a number:-100\n",
            "Enter a number:-10\n",
            "Multiplication= 1000\n"
          ],
          "name": "stdout"
        }
      ]
    },
    {
      "cell_type": "markdown",
      "metadata": {
        "id": "Ygrop0HKPllU",
        "colab_type": "text"
      },
      "source": [
        "4.Consider a list of 10 elements of integer values. If the number in the list is divisible by 2, print the result as\n",
        "\"square of that number minus 2\"."
      ]
    },
    {
      "cell_type": "markdown",
      "metadata": {
        "id": "BkIYKr0MQJFY",
        "colab_type": "text"
      },
      "source": [
        "I have a confusion as it says print \"square of that number minus 2\"\n",
        "\n",
        "Whether i need to print the same string or should i perform the operation mentioned in the string\n",
        "\n",
        "So i have done both"
      ]
    },
    {
      "cell_type": "code",
      "metadata": {
        "id": "3i9Iq6KgPZIa",
        "colab_type": "code",
        "colab": {
          "base_uri": "https://localhost:8080/",
          "height": 185
        },
        "outputId": "6f396c5c-e9be-4910-a9e5-3da50d133cfd"
      },
      "source": [
        "list_a = [1,2,3,4,5,6,7,8,9,10]\n",
        "for i in list_a:\n",
        "  if i%2 == 0:\n",
        "    print((i**2)-2)\n",
        "  else:\n",
        "    print(i)"
      ],
      "execution_count": null,
      "outputs": [
        {
          "output_type": "stream",
          "text": [
            "1\n",
            "2\n",
            "3\n",
            "14\n",
            "5\n",
            "34\n",
            "7\n",
            "62\n",
            "9\n",
            "98\n"
          ],
          "name": "stdout"
        }
      ]
    },
    {
      "cell_type": "code",
      "metadata": {
        "id": "okX8NVHSQE-A",
        "colab_type": "code",
        "colab": {
          "base_uri": "https://localhost:8080/",
          "height": 185
        },
        "outputId": "c8d61fd8-8758-4b63-d56e-e8a52e1f73d1"
      },
      "source": [
        "list_a = [1,2,3,4,5,6,7,8,9,10]\n",
        "for i in list_a:\n",
        "  if i%2 == 0:\n",
        "    print(\"square of that number minus 2\")\n",
        "  else:\n",
        "    print(i)"
      ],
      "execution_count": null,
      "outputs": [
        {
          "output_type": "stream",
          "text": [
            "1\n",
            "square of that number minus 2\n",
            "3\n",
            "square of that number minus 2\n",
            "5\n",
            "square of that number minus 2\n",
            "7\n",
            "square of that number minus 2\n",
            "9\n",
            "square of that number minus 2\n"
          ],
          "name": "stdout"
        }
      ]
    },
    {
      "cell_type": "markdown",
      "metadata": {
        "id": "FuN-RJbYQowu",
        "colab_type": "text"
      },
      "source": [
        "5.Consider a list of 10 elements. Print all the elements in the list which are greater than 7 when that number\n",
        "is divided 2."
      ]
    },
    {
      "cell_type": "code",
      "metadata": {
        "id": "hd5Eyc9RQkqD",
        "colab_type": "code",
        "colab": {
          "base_uri": "https://localhost:8080/",
          "height": 50
        },
        "outputId": "e554a19d-7946-45a1-eefd-051a528f59da"
      },
      "source": [
        "list_b = [1,2,3,4,5,6,7,8,9,10]\n",
        "for i in list_b:\n",
        "  if i>7:\n",
        "    if i%2==0:\n",
        "      print(i)"
      ],
      "execution_count": null,
      "outputs": [
        {
          "output_type": "stream",
          "text": [
            "8\n",
            "10\n"
          ],
          "name": "stdout"
        }
      ]
    }
  ]
}