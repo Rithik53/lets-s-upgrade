{
  "nbformat": 4,
  "nbformat_minor": 0,
  "metadata": {
    "colab": {
      "name": "LU_ASSIGNMENT_1.ipynb",
      "provenance": [],
      "collapsed_sections": [],
      "include_colab_link": true
    },
    "kernelspec": {
      "display_name": "Python 3",
      "language": "python",
      "name": "python3"
    },
    "language_info": {
      "codemirror_mode": {
        "name": "ipython",
        "version": 3
      },
      "file_extension": ".py",
      "mimetype": "text/x-python",
      "name": "python",
      "nbconvert_exporter": "python",
      "pygments_lexer": "ipython3",
      "version": "3.8.5"
    }
  },
  "cells": [
    {
      "cell_type": "markdown",
      "metadata": {
        "id": "view-in-github",
        "colab_type": "text"
      },
      "source": [
        "<a href=\"https://colab.research.google.com/github/Rithik53/lets-s-upgrade/blob/master/LU_ASSIGNMENT_1.ipynb\" target=\"_parent\"><img src=\"https://colab.research.google.com/assets/colab-badge.svg\" alt=\"Open In Colab\"/></a>"
      ]
    },
    {
      "cell_type": "markdown",
      "metadata": {
        "colab_type": "text",
        "id": "bSuUaRTiRCyf"
      },
      "source": [
        "**ASSIGNMENT-1**"
      ]
    },
    {
      "cell_type": "markdown",
      "metadata": {
        "colab_type": "text",
        "id": "8amFNnccKYUg"
      },
      "source": [
        "1.Write a program to subtract two complex numbers in Python"
      ]
    },
    {
      "cell_type": "code",
      "metadata": {
        "colab_type": "code",
        "id": "eQtI-NcjKSFJ",
        "colab": {
          "base_uri": "https://localhost:8080/",
          "height": 68
        },
        "outputId": "914b63bd-d7c7-4559-e899-2503f28f015c"
      },
      "source": [
        "x = complex(input(\"Enter a complex number\"))\n",
        "y = complex(input(\"Enter a complex number\"))\n",
        "print( \"Addtion is : \", (x)-(y))"
      ],
      "execution_count": 5,
      "outputs": [
        {
          "output_type": "stream",
          "text": [
            "Enter a complex number5+6j\n",
            "Enter a complex number2+1j\n",
            "Addtion is :  (3+5j)\n"
          ],
          "name": "stdout"
        }
      ]
    },
    {
      "cell_type": "markdown",
      "metadata": {
        "colab_type": "text",
        "id": "G9hXk1yUMIde"
      },
      "source": [
        "2.Write a program to find the fourth root of a number."
      ]
    },
    {
      "cell_type": "code",
      "metadata": {
        "colab_type": "code",
        "id": "rCHhPvrAMMOg",
        "colab": {
          "base_uri": "https://localhost:8080/",
          "height": 51
        },
        "outputId": "470f2d03-3ca9-4c22-ea49-4b4c3f6d9090"
      },
      "source": [
        "import math \n",
        "import random \n",
        "\n",
        "def nthRoot(A,N): \n",
        "    xPre = random.randint(1,101) % 10\n",
        "    eps = 0.001\n",
        "    delX = 2147483647\n",
        "    xK=0.0\n",
        "\n",
        "    while (delX > eps): \n",
        "        xK = ((N - 1.0) * xPre + A/pow(xPre, N-1)) /N \n",
        "        delX = abs(xK - xPre) \n",
        "        xPre = xK;           \n",
        "    return int(xK) \n",
        "\n",
        "N = 4\n",
        "A = int(input(\"Enter a number \"))\n",
        "nthRootValue = nthRoot(A, N) \n",
        "  \n",
        "print(\"Nth root is \", nthRootValue)"
      ],
      "execution_count": 3,
      "outputs": [
        {
          "output_type": "stream",
          "text": [
            "Enter a number81\n",
            "Nth root is  3\n"
          ],
          "name": "stdout"
        }
      ]
    },
    {
      "cell_type": "markdown",
      "metadata": {
        "colab_type": "text",
        "id": "N9pBzSBjMfOO"
      },
      "source": [
        "3.Write a program to swap two numbers in Python with the help of a temporary variable."
      ]
    },
    {
      "cell_type": "code",
      "metadata": {
        "colab_type": "code",
        "id": "_aC2ufclMgOH",
        "colab": {
          "base_uri": "https://localhost:8080/",
          "height": 84
        },
        "outputId": "c56b7aa1-782f-4b2a-b352-0ea13a7fd682"
      },
      "source": [
        "x = int(input(\"Enter a number\"))\n",
        "y = int(input(\"Enter a number\"))\n",
        "print(\"The x and y values before swapping are\",x , y)\n",
        "a = x\n",
        "x = y\n",
        "y = a\n",
        "print(\"The x and y values after swapping are\",x , y)"
      ],
      "execution_count": null,
      "outputs": [
        {
          "output_type": "stream",
          "text": [
            "Enter a number2\n",
            "Enter a number3\n",
            "The x and y values before swapping are 2 3\n",
            "The x and y values after swapping are 3 2\n"
          ],
          "name": "stdout"
        }
      ]
    },
    {
      "cell_type": "markdown",
      "metadata": {
        "colab_type": "text",
        "id": "FVX24tIMNOht"
      },
      "source": [
        "4.Write a program to swap two numbers in Python without using a temporary variable."
      ]
    },
    {
      "cell_type": "code",
      "metadata": {
        "colab_type": "code",
        "id": "rUobDsMJNItD",
        "colab": {
          "base_uri": "https://localhost:8080/",
          "height": 84
        },
        "outputId": "eff25af6-c509-435a-c7b9-710d9972c70d"
      },
      "source": [
        "x = int(input(\"Enter a number\"))\n",
        "y = int(input(\"Enter a number\"))\n",
        "print(\"The x and y values before swapping are\",x , y)\n",
        "x ,y = y, x\n",
        "print(\"The x and y values after swapping are\",x , y)"
      ],
      "execution_count": null,
      "outputs": [
        {
          "output_type": "stream",
          "text": [
            "Enter a number2\n",
            "Enter a number3\n",
            "The x and y values before swapping are 2 3\n",
            "The x and y values after swapping are 3 2\n"
          ],
          "name": "stdout"
        }
      ]
    },
    {
      "cell_type": "markdown",
      "metadata": {
        "colab_type": "text",
        "id": "UgkcnshAOFqn"
      },
      "source": [
        "5.Write a program to convert Fahrenheit to kelvin and celsius both."
      ]
    },
    {
      "cell_type": "code",
      "metadata": {
        "colab_type": "code",
        "id": "pIHPVj80N918",
        "colab": {
          "base_uri": "https://localhost:8080/",
          "height": 67
        },
        "outputId": "fd37b172-2e82-460c-ee63-a0897a8a92eb"
      },
      "source": [
        "fah = float(input(\"Enter the temperature in Fahrenheit \"))\n",
        "celsius = (fah-32)/1.8;\n",
        "kelvin = 273.5 + ((fah - 32.0) * (5.0/9.0)) \n",
        "print(\"The temperature in Celcius is = {:.3f}\".format(celsius))\n",
        "print(\"The temperature in Kelvin is = {:.3f}\".format(kelvin))"
      ],
      "execution_count": null,
      "outputs": [
        {
          "output_type": "stream",
          "text": [
            "Enter the temperature in Fahrenheit 100\n",
            "The temperature in Celcius is = 37.778\n",
            "The temperature in Kelvin is = 311.278\n"
          ],
          "name": "stdout"
        }
      ]
    },
    {
      "cell_type": "markdown",
      "metadata": {
        "colab_type": "text",
        "id": "LJ4knbM8PXD6"
      },
      "source": [
        "6.Write a program to demonstrate all the available data types in Python. Hint: Use type() function."
      ]
    },
    {
      "cell_type": "code",
      "metadata": {
        "colab_type": "code",
        "id": "OgnkU1a9O1nn",
        "colab": {
          "base_uri": "https://localhost:8080/",
          "height": 170
        },
        "outputId": "4f41ced7-423d-405b-a164-6e6b7c1b15bf"
      },
      "source": [
        "x = \"Hello Team\"\n",
        "y = True\n",
        "z = 13\n",
        "a = 13.0\n",
        "b = [1,2,3,4]\n",
        "c = 2+3j\n",
        "d = (1,2,3)\n",
        "e = dict(name=\"rithik\",ID=12)\n",
        "f= set((1,2,3))\n",
        "print(type(x))\n",
        "print(type(y))\n",
        "print(type(z))\n",
        "print(type(a))\n",
        "print(type(b))\n",
        "print(type(c))\n",
        "print(type(d))\n",
        "print(type(e))\n",
        "print(type(f))"
      ],
      "execution_count": null,
      "outputs": [
        {
          "output_type": "stream",
          "text": [
            "<class 'str'>\n",
            "<class 'bool'>\n",
            "<class 'int'>\n",
            "<class 'float'>\n",
            "<class 'list'>\n",
            "<class 'complex'>\n",
            "<class 'tuple'>\n",
            "<class 'dict'>\n",
            "<class 'set'>\n"
          ],
          "name": "stdout"
        }
      ]
    },
    {
      "cell_type": "markdown",
      "metadata": {
        "colab_type": "text",
        "id": "fKZlBHMsRZOc"
      },
      "source": [
        "7.Create a Markdown cell in Jupyter and list the steps discussed in the session by Dr. Darshan\n",
        "Ingle sir to create a Github profile and upload the Githubs Assignment link."
      ]
    },
    {
      "cell_type": "markdown",
      "metadata": {
        "colab_type": "text",
        "id": "D6QciGJCUwQE"
      },
      "source": [
        "**STEPS**\n",
        "\n",
        "**Step-1** = Go to github.com\n",
        "\n",
        "**Step-2** = Create an account using mail id\n",
        "\n",
        "**Step-3** = Once we have created the account,Click on create repository->Give a name and then make sure the repository is public and click on add readme file and then click on create repository\n",
        "\n",
        "**Step-4** = Once the repository is created click on upload files and upload the ipynb file downloaded from google colab or jupyter notebook"
      ]
    }
  ]
}